{
 "cells": [
  {
   "cell_type": "code",
   "execution_count": 1,
   "id": "50a0c734",
   "metadata": {},
   "outputs": [],
   "source": [
    "include(\"src/CrossSection.jl\")\n",
    "using .CrossSection"
   ]
  },
  {
   "cell_type": "markdown",
   "id": "42b1d999",
   "metadata": {},
   "source": [
    "---\n",
    "#### Photon vector meson wavefunction overlap\n",
    "The expressions are taken from [arXiv:hep-ph/0606272](https://arxiv.org/abs/hep-ph/0606272)\n",
    "$$\\begin{aligned}(\\Psi^*_V\\Psi)_T&=\\hat{e}_f e\\dfrac{N_c}{\\pi z(1-z)}\\left\\{m_f^2 K_0(\\epsilon r)\\phi_T(r,z)-[z^2+(1-z)^2]\\epsilon K_1(\\epsilon r)\\partial_r \\phi_T(r,z)\\right\\}\\\\\n",
    "(\\Psi^*_V\\Psi)_L&=\\hat{e}_f e\\dfrac{N_c}{\\pi}2Qz(1-z)K_0(\\epsilon r)\\left[M_V\\phi_L(r,z)+\\delta \\dfrac{m_f^2-\\nabla_r^2}{M_vz(1-z)}\\phi_L(r,z)\\right]\n",
    "\\end{aligned}$$"
   ]
  },
  {
   "cell_type": "markdown",
   "id": "ebb72228",
   "metadata": {},
   "source": [
    "##### Boosted Gaussian model\n",
    "$$\\phi_{T,L}(r,z)=\\mathcal{N}_{T,L}z(1-z)\\exp\\left(-\\dfrac{m_f^2\\mathcal{R}^2}{8z(1-z)}-\\dfrac{2z(1-z)r^2}{\\mathcal{R}^2}+\\dfrac{m_f^2\\mathcal{R}^2}{2}\\right)$$\n",
    "\n",
    "The parameters $\\mathcal{N}_{T,L}$ and $\\mathcal{R}$ are determined from the normalization and decay width conditions. "
   ]
  },
  {
   "cell_type": "code",
   "execution_count": 2,
   "id": "15479e5d",
   "metadata": {},
   "outputs": [
    {
     "data": {
      "text/latex": [
       "$$ \\begin{equation}\n",
       "0.578 z \\left( 1 - z \\right) e^{2.254 + \\frac{-4.508}{8 z \\left( 1 - z \\right)} - 0.86957 r^{2} z \\left( 1 - z \\right)}\n",
       "\\end{equation}\n",
       " $$"
      ],
      "text/plain": [
       "0.578z*(1 - z)*exp(2.2539999999999996 + -4.507999999999999 / (8z*(1 - z)) - 0.8695652173913044(r^2)*z*(1 - z))"
      ]
     },
     "metadata": {},
     "output_type": "display_data"
    }
   ],
   "source": [
    "ϕ(r, z, \"T\", params_wavefct)"
   ]
  },
  {
   "cell_type": "code",
   "execution_count": 3,
   "id": "057a7603",
   "metadata": {},
   "outputs": [
    {
     "data": {
      "text/latex": [
       "$$ \\begin{equation}\n",
       "0.575 z \\left( 1 - z \\right) e^{2.254 + \\frac{-4.508}{8 z \\left( 1 - z \\right)} - 0.86957 r^{2} z \\left( 1 - z \\right)}\n",
       "\\end{equation}\n",
       " $$"
      ],
      "text/plain": [
       "0.575z*(1 - z)*exp(2.2539999999999996 + -4.507999999999999 / (8z*(1 - z)) - 0.8695652173913044(r^2)*z*(1 - z))"
      ]
     },
     "metadata": {},
     "output_type": "display_data"
    }
   ],
   "source": [
    "ϕ(r, z, \"L\", params_wavefct)"
   ]
  },
  {
   "cell_type": "code",
   "execution_count": 4,
   "id": "d7615bc9",
   "metadata": {},
   "outputs": [
    {
     "data": {
      "text/latex": [
       "$$ \\begin{equation}\n",
       "\\frac{0.57842 \\left( 1.1329 z \\left( 1 - z \\right) besselk\\left( 0, 1.4 r \\right) e^{2.254 + \\frac{-4.508}{8 z \\left( 1 - z \\right)} - 0.86957 r^{2} z \\left( 1 - z \\right)} - 1.4073 \\left( 1 - z \\right)^{2} z^{2} r \\left(  - z^{2} - \\left( 1 - z \\right)^{2} \\right) e^{2.254 + \\frac{-4.508}{8 z \\left( 1 - z \\right)} - 0.86957 r^{2} z \\left( 1 - z \\right)} besselk\\left( 1, 1.4 r \\right) \\right)}{z \\left( 1 - z \\right)}\n",
       "\\end{equation}\n",
       " $$"
      ],
      "text/plain": [
       "(0.5784236293296671(1.1328799999999997z*(1 - z)*SpecialFunctions.besselk(0, 1.4r)*exp(2.2539999999999996 + -4.507999999999999 / (8z*(1 - z)) - 0.8695652173913044(r^2)*z*(1 - z)) - 1.407304347826087r*(z^2)*(-(z^2) - ((1 - z)^2))*((1 - z)^2)*exp(2.2539999999999996 + -4.507999999999999 / (8z*(1 - z)) - 0.8695652173913044(r^2)*z*(1 - z))*SpecialFunctions.besselk(1, 1.4r))) / (z*(1 - z))"
      ]
     },
     "metadata": {},
     "output_type": "display_data"
    }
   ],
   "source": [
    "ΨᵥΨ(r, z, \"T\", params_wavefct)"
   ]
  },
  {
   "cell_type": "code",
   "execution_count": 5,
   "id": "3ea7c620",
   "metadata": {},
   "outputs": [
    {
     "data": {
      "text/latex": [
       "$$ \\begin{equation}\n",
       "0\n",
       "\\end{equation}\n",
       " $$"
      ],
      "text/plain": [
       "0.0"
      ]
     },
     "metadata": {},
     "output_type": "display_data"
    }
   ],
   "source": [
    "ΨᵥΨ(r, z, \"L\", params_wavefct)"
   ]
  },
  {
   "cell_type": "markdown",
   "id": "c08846c1",
   "metadata": {},
   "source": [
    "---\n",
    "\n",
    "#### GBW dipole cross section\n",
    "\n",
    "$$\\sigma_{q\\overline{q}}^\\mathrm{GBW}(x,r)=\\sigma_0 \\left(1-\\mathrm{e}^{-r^2 Q_s^2(x)/4}\\right)$$\n",
    "\n",
    "where $Q_s^2(x)=(x_0/x)^{\\lambda_{\\mathrm{GBW}}}$.\n",
    "\n",
    "Let us introduce an impact parameter dependence \n",
    "\n",
    "$$\\dfrac{\\mathrm{d}\\sigma_{q\\overline{q}}}{\\mathrm{d}^2\\boldsymbol{b}}=\\sigma_0\\left(1-\\mathrm{e}^{-\\mathcal{N}r^2 Q_s^2(x,b)}\\right)$$\n",
    "\n",
    "where $Q_s^2(x,b)=(x_0/x)^{\\lambda_{\\mathrm{GBW}}}T(b)$ with a Gaussian thickness function\n",
    "\n",
    "$$T(b)=\\dfrac{1}{2\\pi B_p}\\mathrm{e}^{-\\frac{b^2}{2B_p}}$$\n",
    "\n",
    "Here the parameter $B_p$ is the proton width. Here $\\mathcal{N}$ is a normalization factor chosen to fit $\\mathrm{d}\\sigma/\\mathrm{d}t$."
   ]
  },
  {
   "cell_type": "code",
   "execution_count": 6,
   "id": "07b76bb2",
   "metadata": {},
   "outputs": [
    {
     "data": {
      "text/plain": [
       "0.5915964371087449"
      ]
     },
     "metadata": {},
     "output_type": "display_data"
    }
   ],
   "source": [
    "Qₛ(params_gbw)"
   ]
  },
  {
   "cell_type": "code",
   "execution_count": 7,
   "id": "9fa0497a",
   "metadata": {},
   "outputs": [
    {
     "data": {
      "text/latex": [
       "$$ \\begin{equation}\n",
       "0.039789 e^{ - \\frac{1}{8} b^{2}}\n",
       "\\end{equation}\n",
       " $$"
      ],
      "text/plain": [
       "0.039788735772973836exp((-1//8)*(b^2))"
      ]
     },
     "metadata": {},
     "output_type": "display_data"
    }
   ],
   "source": [
    "T(b, params_gbw)"
   ]
  },
  {
   "cell_type": "code",
   "execution_count": 8,
   "id": "ac890b1c",
   "metadata": {},
   "outputs": [
    {
     "data": {
      "text/latex": [
       "$$ \\begin{equation}\n",
       "74.478 \\left( 1 - e^{ - 0.17407 r^{2} e^{ - \\frac{1}{8} b^{2}}} \\right)\n",
       "\\end{equation}\n",
       " $$"
      ],
      "text/plain": [
       "74.47751(1 - exp(-0.17406892726838896(r^2)*exp((-1//8)*(b^2))))"
      ]
     },
     "metadata": {},
     "output_type": "display_data"
    }
   ],
   "source": [
    "gbwdipole(r, b, params_gbw)"
   ]
  }
 ],
 "metadata": {
  "kernelspec": {
   "display_name": "Julia 1.11.4",
   "language": "julia",
   "name": "julia-1.11"
  },
  "language_info": {
   "file_extension": ".jl",
   "mimetype": "application/julia",
   "name": "julia",
   "version": "1.11.4"
  }
 },
 "nbformat": 4,
 "nbformat_minor": 5
}
